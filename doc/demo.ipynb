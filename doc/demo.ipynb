{
 "cells": [
  {
   "cell_type": "markdown",
   "metadata": {},
   "source": [
    "# MyPy IPython Demo\n",
    " \n",
    "This shows how to use `mypy` to fix type errors in code.\n",
    "\n",
    "First, load the extension."
   ]
  },
  {
   "cell_type": "code",
   "execution_count": 1,
   "metadata": {},
   "outputs": [],
   "source": [
    "%load_ext mypy_ipython"
   ]
  },
  {
   "cell_type": "markdown",
   "metadata": {},
   "source": [
    "Now, we need some code. Ideally code that makes a lot of type errors.\n",
    "Here is a function that packs a lot of errors into little code."
   ]
  },
  {
   "cell_type": "code",
   "execution_count": 8,
   "metadata": {},
   "outputs": [],
   "source": [
    "def foo(s: int) -> str:\n",
    "    f = s + \"1\"\n",
    "    return 2"
   ]
  },
  {
   "cell_type": "markdown",
   "metadata": {},
   "source": [
    "The next step is to run the type checker."
   ]
  },
  {
   "cell_type": "code",
   "execution_count": 9,
   "metadata": {},
   "outputs": [
    {
     "name": "stdout",
     "output_type": "stream",
     "text": [
      "note: In function \"foo\":\n",
      "        f = s + \"1\"\n",
      "error: Unsupported operand types for + (\"int\" and \"str\")\n",
      "        return 2\n",
      "error: Incompatible return value type (got \"int\", expected \"str\")\n",
      "Found 2 errors in 1 file (checked 1 source file)\n"
     ]
    },
    {
     "name": "stderr",
     "output_type": "stream",
     "text": [
      "Type checking failed\n"
     ]
    }
   ],
   "source": [
    "%mypy"
   ]
  },
  {
   "cell_type": "markdown",
   "metadata": {},
   "source": [
    "Oh no! Two errors in three lines. We should fix that.\n",
    "We should not be adding strings to integers. Let's fix the first line in `foo`:"
   ]
  },
  {
   "cell_type": "code",
   "execution_count": 10,
   "metadata": {},
   "outputs": [],
   "source": [
    "def foo(s: int) -> str:\n",
    "    f = s + 1\n",
    "    return 2"
   ]
  },
  {
   "cell_type": "code",
   "execution_count": 12,
   "metadata": {},
   "outputs": [
    {
     "name": "stdout",
     "output_type": "stream",
     "text": [
      "note: In function \"foo\":\n",
      "        return 2\n",
      "error: Incompatible return value type (got \"int\", expected \"str\")\n",
      "Found 1 error in 1 file (checked 1 source file)\n"
     ]
    },
    {
     "name": "stderr",
     "output_type": "stream",
     "text": [
      "Type checking failed\n"
     ]
    }
   ],
   "source": [
    "%mypy"
   ]
  },
  {
   "cell_type": "markdown",
   "metadata": {},
   "source": [
    "One down, one to go. We really should return a string."
   ]
  },
  {
   "cell_type": "code",
   "execution_count": 15,
   "metadata": {},
   "outputs": [],
   "source": [
    "def foo(s: int) -> str:\n",
    "    f = s + 1\n",
    "    return \"2\""
   ]
  },
  {
   "cell_type": "code",
   "execution_count": 16,
   "metadata": {},
   "outputs": [
    {
     "name": "stdout",
     "output_type": "stream",
     "text": [
      "Success: no issues found in 1 source file\n",
      "Type checking successful\n"
     ]
    }
   ],
   "source": [
    "%mypy"
   ]
  }
 ],
 "metadata": {
  "kernelspec": {
   "display_name": "myipy",
   "language": "python",
   "name": "myipy-venv"
  },
  "language_info": {
   "codemirror_mode": {
    "name": "ipython",
    "version": 3
   },
   "file_extension": ".py",
   "mimetype": "text/x-python",
   "name": "python",
   "nbconvert_exporter": "python",
   "pygments_lexer": "ipython3",
   "version": "3.8.3"
  }
 },
 "nbformat": 4,
 "nbformat_minor": 4
}
