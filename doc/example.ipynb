{
 "cells": [
  {
   "cell_type": "markdown",
   "metadata": {},
   "source": [
    "# MyPy IPython Example\n",
    "\n",
    "This is a more comprehensive example,\n",
    "showing how type checking can help with data analysis.\n",
    "\n",
    "Let's suppose we have a web API for sentiment analysis.\n",
    "When we post to `http://sentiment-analyzer.example.com/analyze`,\n",
    "we get a result of\n",
    "`{\"sentiment\": \"positive\"}`\n",
    "or\n",
    "`{\"sentiment\": \"negative\"}`.\n",
    "In our example, we will imagine that this is a usage-based payment API:\n",
    "some amount of money for 1000 requests."
   ]
  },
  {
   "cell_type": "code",
   "execution_count": 4,
   "metadata": {},
   "outputs": [],
   "source": [
    "# from requests import Session\n",
    "# SESSION = Session()\n",
    "\n",
    "from unittest import mock\n",
    "SESSION = mock.MagicMock()"
   ]
  },
  {
   "cell_type": "markdown",
   "metadata": {},
   "source": [
    "We also have a database with people's reviews that we want to analyze for sentiment.\n",
    "We will abstract the database away and assume we already have the data we need in memory.at i\n",
    "\n",
    "Since we pay money for API usage, we mostly debug on a sample of the data.\n",
    "Once we see that it works, we run it on the full sample.\n",
    "In real life, the sample data might be a 1,000 elements,\n",
    "and the full data 1,000,000.\n",
    "\n",
    "In our little example, for pedagogical reasons, the sample has two items\n",
    "and the full data has three -- only one more."
   ]
  },
  {
   "cell_type": "code",
   "execution_count": 2,
   "metadata": {},
   "outputs": [],
   "source": [
    "SAMPLE_DATA = [\n",
    "    {\"name\": \"Jane Doe\", \"review\": \"I liked it\", \"product_id\": 5},\n",
    "    {\"name\": \"Huan Liu\", \"review\": \"it sucked\", \"product_id\": 7},\n",
    "]\n",
    "FULL_DATA = SAMPLE_DATA + [\n",
    "    {\"name\": \"Denzel Brown\", \"review\": \"ok I guess\", \"product_id\": 2},\n",
    "]"
   ]
  },
  {
   "cell_type": "markdown",
   "metadata": {},
   "source": [
    "Here is the wrapper code to call the sentiment analyzer:"
   ]
  },
  {
   "cell_type": "code",
   "execution_count": 3,
   "metadata": {},
   "outputs": [],
   "source": [
    "def is_positive(text):\n",
    "    results = SESSION.post(\"http://sentiment-analyzer.example.com/analyze\", json=dict(text=text))\n",
    "    return results.json()[\"sentiment\"] == \"positive\""
   ]
  },
  {
   "cell_type": "markdown",
   "metadata": {},
   "source": [
    "Unfortunately, even on our small sample,\n",
    "this was sometimes hanging for a long time.\n",
    "But, easy enough to fix:\n",
    "we added a little retry loop that tries three times,\n",
    "and added a 3 second timeout."
   ]
  },
  {
   "cell_type": "code",
   "execution_count": 4,
   "metadata": {},
   "outputs": [],
   "source": [
    "def sentiment(text):\n",
    "    for i in range(3):\n",
    "        try:\n",
    "            results = SESSION.post(\"http://sentiment-analyzer.example.com/analyze\",\n",
    "                                   json=dict(text=text), timeout=3)\n",
    "        except OSError:\n",
    "            continue\n",
    "        else:\n",
    "            return 1 if results.json()[\"sentiment\"] == \"positive\" else -1"
   ]
  },
  {
   "cell_type": "code",
   "execution_count": 5,
   "metadata": {},
   "outputs": [],
   "source": [
    "SESSION.post.side_effect = [\n",
    "    mock.MagicMock(**{\"json.return_value\": dict(sentiment=sentiment)})\n",
    "    for sentiment in [\"positive\", \"negative\"]\n",
    "]"
   ]
  },
  {
   "cell_type": "code",
   "execution_count": 6,
   "metadata": {},
   "outputs": [
    {
     "name": "stdout",
     "output_type": "stream",
     "text": [
      "0\n"
     ]
    }
   ],
   "source": [
    "average_sentiment = sum(sentiment(datum[\"review\"]) for datum in SAMPLE_DATA)\n",
    "print(average_sentiment)"
   ]
  },
  {
   "cell_type": "markdown",
   "metadata": {},
   "source": [
    "Looks good! It even handles errors:"
   ]
  },
  {
   "cell_type": "code",
   "execution_count": 7,
   "metadata": {},
   "outputs": [],
   "source": [
    "import random\n",
    "side_effect = [\n",
    "    mock.MagicMock(**{\"json.return_value\": dict(sentiment=sentiment)})\n",
    "    for sentiment in [\"positive\", \"negative\"]\n",
    "] + [OSError(\"woops too long\")] * 2\n",
    "random.shuffle(side_effect)\n",
    "SESSION.post.side_effect = side_effect"
   ]
  },
  {
   "cell_type": "code",
   "execution_count": 8,
   "metadata": {},
   "outputs": [
    {
     "name": "stdout",
     "output_type": "stream",
     "text": [
      "0\n"
     ]
    }
   ],
   "source": [
    "average_sentiment = sum(sentiment(datum[\"review\"]) for datum in SAMPLE_DATA)\n",
    "print(average_sentiment)"
   ]
  },
  {
   "cell_type": "markdown",
   "metadata": {},
   "source": [
    "Looks good! Let's wrap it in a function:"
   ]
  },
  {
   "cell_type": "code",
   "execution_count": 9,
   "metadata": {},
   "outputs": [],
   "source": [
    "def get_average_sentiment(data):\n",
    "    return sum(sentiment(datum[\"review\"]) for datum in data)"
   ]
  },
  {
   "cell_type": "code",
   "execution_count": 10,
   "metadata": {},
   "outputs": [
    {
     "data": {
      "text/plain": [
       "0"
      ]
     },
     "execution_count": 10,
     "metadata": {},
     "output_type": "execute_result"
    }
   ],
   "source": [
    "SESSION.post.side_effect = [\n",
    "    mock.MagicMock(**{\"json.return_value\": dict(sentiment=sentiment)})\n",
    "    for sentiment in [\"positive\", \"negative\"]\n",
    "]\n",
    "get_average_sentiment(SAMPLE_DATA)"
   ]
  },
  {
   "cell_type": "markdown",
   "metadata": {},
   "source": [
    "But, on the full sample, sometimes requests fail three times.\n",
    "What happens then?"
   ]
  },
  {
   "cell_type": "code",
   "execution_count": 11,
   "metadata": {},
   "outputs": [],
   "source": [
    "SESSION.post.side_effect = [\n",
    "    mock.MagicMock(**{\"json.return_value\": dict(sentiment=sentiment)})\n",
    "    for sentiment in [\"positive\", \"negative\"]\n",
    "] + [OSError(\"woops too long\")] * 4"
   ]
  },
  {
   "cell_type": "code",
   "execution_count": 12,
   "metadata": {},
   "outputs": [
    {
     "ename": "TypeError",
     "evalue": "unsupported operand type(s) for +: 'int' and 'NoneType'",
     "output_type": "error",
     "traceback": [
      "\u001b[0;31m---------------------------------------------------------------------------\u001b[0m",
      "\u001b[0;31mTypeError\u001b[0m                                 Traceback (most recent call last)",
      "\u001b[0;32m<ipython-input-12-a5751932427c>\u001b[0m in \u001b[0;36m<module>\u001b[0;34m\u001b[0m\n\u001b[0;32m----> 1\u001b[0;31m \u001b[0mget_average_sentiment\u001b[0m\u001b[0;34m(\u001b[0m\u001b[0mFULL_DATA\u001b[0m\u001b[0;34m)\u001b[0m\u001b[0;34m\u001b[0m\u001b[0;34m\u001b[0m\u001b[0m\n\u001b[0m",
      "\u001b[0;32m<ipython-input-9-bfb1266b4732>\u001b[0m in \u001b[0;36mget_average_sentiment\u001b[0;34m(data)\u001b[0m\n\u001b[1;32m      1\u001b[0m \u001b[0;32mdef\u001b[0m \u001b[0mget_average_sentiment\u001b[0m\u001b[0;34m(\u001b[0m\u001b[0mdata\u001b[0m\u001b[0;34m)\u001b[0m\u001b[0;34m:\u001b[0m\u001b[0;34m\u001b[0m\u001b[0;34m\u001b[0m\u001b[0m\n\u001b[0;32m----> 2\u001b[0;31m     \u001b[0;32mreturn\u001b[0m \u001b[0msum\u001b[0m\u001b[0;34m(\u001b[0m\u001b[0msentiment\u001b[0m\u001b[0;34m(\u001b[0m\u001b[0mdatum\u001b[0m\u001b[0;34m[\u001b[0m\u001b[0;34m\"review\"\u001b[0m\u001b[0;34m]\u001b[0m\u001b[0;34m)\u001b[0m \u001b[0;32mfor\u001b[0m \u001b[0mdatum\u001b[0m \u001b[0;32min\u001b[0m \u001b[0mdata\u001b[0m\u001b[0;34m)\u001b[0m\u001b[0;34m\u001b[0m\u001b[0;34m\u001b[0m\u001b[0m\n\u001b[0m",
      "\u001b[0;31mTypeError\u001b[0m: unsupported operand type(s) for +: 'int' and 'NoneType'"
     ]
    }
   ],
   "source": [
    "get_average_sentiment(FULL_DATA)"
   ]
  },
  {
   "cell_type": "markdown",
   "metadata": {},
   "source": [
    "Woops! Too bad. The fix is simple: it is rare for requests to fail three times,\n",
    "so we can just return `0`: it is not going to change the average too much."
   ]
  },
  {
   "cell_type": "code",
   "execution_count": 13,
   "metadata": {},
   "outputs": [],
   "source": [
    "def sentiment(text):\n",
    "    for i in range(3):\n",
    "        try:\n",
    "            results = SESSION.post(\"http://sentiment-analyzer.example.com/analyze\",\n",
    "                                   json=dict(text=text), timeout=3)\n",
    "        except OSError:\n",
    "            continue\n",
    "        else:\n",
    "            return 1 if results.json()[\"sentiment\"] == \"positive\" else -1\n",
    "    return 0"
   ]
  },
  {
   "cell_type": "markdown",
   "metadata": {},
   "source": [
    "We are done.\n",
    "\n",
    "Too bad that to grab the new sentiments,\n",
    "we have to use the API again...for all elements.\n",
    "Oh, well.\n",
    "Too bad about the usage-based cost."
   ]
  },
  {
   "cell_type": "code",
   "execution_count": 14,
   "metadata": {
    "jupyter": {
     "source_hidden": true
    }
   },
   "outputs": [
    {
     "data": {
      "text/plain": [
       "0"
      ]
     },
     "execution_count": 14,
     "metadata": {},
     "output_type": "execute_result"
    }
   ],
   "source": [
    "SESSION.post.side_effect = [\n",
    "    mock.MagicMock(**{\"json.return_value\": dict(sentiment=sentiment)})\n",
    "    for sentiment in [\"positive\", \"negative\"]\n",
    "] + [OSError(\"woops too long\")] * 4\n",
    "get_average_sentiment(FULL_DATA)"
   ]
  },
  {
   "cell_type": "markdown",
   "metadata": {
    "jupyter": {
     "source_hidden": true
    }
   },
   "source": [
    "What if this could all have been avoided?"
   ]
  },
  {
   "cell_type": "code",
   "execution_count": 1,
   "metadata": {},
   "outputs": [],
   "source": [
    "%load_ext mypy_ipython"
   ]
  },
  {
   "cell_type": "code",
   "execution_count": 5,
   "metadata": {},
   "outputs": [],
   "source": [
    "def sentiment(text: str) -> int:\n",
    "    for i in range(3):\n",
    "        try:\n",
    "            results = SESSION.post(\"http://sentiment-analyzer.example.com/analyze\",\n",
    "                                   json=dict(text=text), timeout=3)\n",
    "        except OSError:\n",
    "            continue\n",
    "        else:\n",
    "            return 1 if results.json()[\"sentiment\"] == \"positive\" else -1"
   ]
  },
  {
   "cell_type": "code",
   "execution_count": 6,
   "metadata": {},
   "outputs": [
    {
     "name": "stdout",
     "output_type": "stream",
     "text": [
      "note: In function \"sentiment\":\n",
      "    def sentiment(text: str) -> int:\n",
      "error: Missing return statement\n",
      "Found 1 error in 1 file (checked 1 source file)\n"
     ]
    },
    {
     "name": "stderr",
     "output_type": "stream",
     "text": [
      "Type checking failed\n"
     ]
    }
   ],
   "source": [
    "%mypy"
   ]
  }
 ],
 "metadata": {
  "kernelspec": {
   "display_name": "myipy",
   "language": "python",
   "name": "myipy-venv"
  },
  "language_info": {
   "codemirror_mode": {
    "name": "ipython",
    "version": 3
   },
   "file_extension": ".py",
   "mimetype": "text/x-python",
   "name": "python",
   "nbconvert_exporter": "python",
   "pygments_lexer": "ipython3",
   "version": "3.8.3"
  }
 },
 "nbformat": 4,
 "nbformat_minor": 4
}
